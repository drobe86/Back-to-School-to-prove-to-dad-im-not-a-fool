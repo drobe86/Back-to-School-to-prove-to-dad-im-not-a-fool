{
 "cells": [
  {
   "cell_type": "code",
   "execution_count": 1,
   "metadata": {},
   "outputs": [],
   "source": [
    "from IPython.display import clear_output\n",
    "\n",
    "def display_board(board):\n",
    "    print(board[7] + '|' + board[8] + '|' + board[9])\n",
    "    print('-----')\n",
    "    print(board[4] + '|' + board[5] + '|' + board[6])\n",
    "    print('-----')\n",
    "    print(board[1] + '|' + board[2] + '|' + board[3])"
   ]
  },
  {
   "cell_type": "code",
   "execution_count": 2,
   "metadata": {},
   "outputs": [
    {
     "name": "stdout",
     "output_type": "stream",
     "text": [
      "X|O|X\n",
      "-----\n",
      "O|X|O\n",
      "-----\n",
      "X|O|X\n"
     ]
    }
   ],
   "source": [
    "test_board = ['#','X','O','X','O','X','O','X','O','X']\n",
    "display_board(test_board)\n"
   ]
  },
  {
   "cell_type": "code",
   "execution_count": 3,
   "metadata": {},
   "outputs": [],
   "source": [
    "def player_input():\n",
    "    \n",
    "    marker = ''\n",
    "    \n",
    "    while marker != 'X' and marker != 'O':\n",
    "        marker = input('Player 1: Choose X or O: ').upper()\n",
    "    \n",
    "    if marker == 'X':\n",
    "        \n",
    "        return ('X','O')\n",
    "    else:\n",
    "        return ('O','X')"
   ]
  },
  {
   "cell_type": "code",
   "execution_count": 4,
   "metadata": {},
   "outputs": [
    {
     "name": "stdout",
     "output_type": "stream",
     "text": [
      "Player 1: Choose X or O: X\n"
     ]
    }
   ],
   "source": [
    "player1_marker , player2_marker = player_input() \n",
    "#TUPLE UNPACKING"
   ]
  },
  {
   "cell_type": "code",
   "execution_count": 5,
   "metadata": {},
   "outputs": [],
   "source": [
    "def place_marker(board, marker, position):\n",
    "    board[position] = marker"
   ]
  },
  {
   "cell_type": "code",
   "execution_count": 6,
   "metadata": {},
   "outputs": [
    {
     "name": "stdout",
     "output_type": "stream",
     "text": [
      "X|$|X\n",
      "-----\n",
      "O|X|O\n",
      "-----\n",
      "X|O|X\n"
     ]
    }
   ],
   "source": [
    "place_marker(test_board,'$',8)\n",
    "display_board(test_board)"
   ]
  },
  {
   "cell_type": "code",
   "execution_count": 7,
   "metadata": {},
   "outputs": [
    {
     "data": {
      "text/plain": [
       "['#', 'X', 'O', 'X', 'O', 'X', 'O', 'X', '$', 'X']"
      ]
     },
     "execution_count": 7,
     "metadata": {},
     "output_type": "execute_result"
    }
   ],
   "source": [
    "test_board"
   ]
  },
  {
   "cell_type": "code",
   "execution_count": 8,
   "metadata": {},
   "outputs": [],
   "source": [
    "def win_check(board, mark):\n",
    "    \n",
    "    return((board[7] == mark and board[8] == mark and board[9] == mark) or\n",
    "    (board[4] == mark and board[5] == mark and board[6] == mark) or\n",
    "    (board[1] == mark and board[2] == mark and board[3] == mark) or\n",
    "    (board[1] == mark and board[5] == mark and board[9] == mark) or\n",
    "    (board[7] == mark and board[5] == mark and board[3] == mark) or\n",
    "    (board[1] == mark and board[4] == mark and board[7] == mark) or\n",
    "    (board[8] == mark and board[5] == mark and board[2] == mark) or\n",
    "    (board[3] == mark and board[6] == mark and board[9] == mark))\n",
    "   "
   ]
  },
  {
   "cell_type": "code",
   "execution_count": 9,
   "metadata": {},
   "outputs": [
    {
     "data": {
      "text/plain": [
       "True"
      ]
     },
     "execution_count": 9,
     "metadata": {},
     "output_type": "execute_result"
    }
   ],
   "source": [
    "win_check(test_board,'X')"
   ]
  },
  {
   "cell_type": "code",
   "execution_count": 10,
   "metadata": {},
   "outputs": [],
   "source": [
    "import random\n",
    "\n",
    "def choose_first():\n",
    "    \n",
    "    flip = random.randint(0,1)\n",
    "    if flip == 0:\n",
    "        return 'Player 1'\n",
    "    else:\n",
    "        return 'Player 2'"
   ]
  },
  {
   "cell_type": "code",
   "execution_count": 11,
   "metadata": {},
   "outputs": [],
   "source": [
    "def space_check(board, position):\n",
    "    return(board[position] == \" \")"
   ]
  },
  {
   "cell_type": "code",
   "execution_count": 12,
   "metadata": {},
   "outputs": [],
   "source": [
    "def full_board_check(board):\n",
    "    \n",
    "    for i in range(1,10):\n",
    "        if space_check(board, i):\n",
    "            return False\n",
    "    return True"
   ]
  },
  {
   "cell_type": "code",
   "execution_count": 16,
   "metadata": {},
   "outputs": [],
   "source": [
    "def player_choice(board):\n",
    "    position = 0 # need this place holder or else syntax is wrong\n",
    "    while position not in [1,2,3,4,5,6,7,8,9] or not space_check(board,position):\n",
    "        position = int(input('Choose a position, 1-9: '))\n",
    "    return position"
   ]
  },
  {
   "cell_type": "code",
   "execution_count": 17,
   "metadata": {},
   "outputs": [],
   "source": [
    "def replay():\n",
    "    \n",
    "    Choice = input(\"Play Again? Enter Yes or No?\")\n",
    "    \n",
    "    return Choice == 'Yes'"
   ]
  },
  {
   "cell_type": "code",
   "execution_count": 18,
   "metadata": {},
   "outputs": [
    {
     "name": "stdout",
     "output_type": "stream",
     "text": [
      "Welcome to Tic Tac Toe!\n",
      "Player 1: Choose X or O: X\n",
      "Player 1 will go first\n",
      "Ready to play? y or n y\n",
      " | | \n",
      "-----\n",
      " | | \n",
      "-----\n",
      " | | \n",
      "Choose a position, 1-9: 1\n",
      " | | \n",
      "-----\n",
      " | | \n",
      "-----\n",
      "X| | \n",
      "Choose a position, 1-9: 8\n",
      " |O| \n",
      "-----\n",
      " | | \n",
      "-----\n",
      "X| | \n",
      "Choose a position, 1-9: 2\n",
      " |O| \n",
      "-----\n",
      " | | \n",
      "-----\n",
      "X|X| \n",
      "Choose a position, 1-9: 6\n",
      " |O| \n",
      "-----\n",
      " | |O\n",
      "-----\n",
      "X|X| \n",
      "Choose a position, 1-9: 4\n",
      " |O| \n",
      "-----\n",
      "X| |O\n",
      "-----\n",
      "X|X| \n",
      "Choose a position, 1-9: 5\n",
      " |O| \n",
      "-----\n",
      "X|O|O\n",
      "-----\n",
      "X|X| \n",
      "Choose a position, 1-9: 3\n",
      " |O| \n",
      "-----\n",
      "X|O|O\n",
      "-----\n",
      "X|X|X\n",
      "Player 1 WINS!!!\n",
      "Play Again? Enter Yes or No?Yes\n",
      "Player 1: Choose X or O: X\n",
      "Player 2 will go first\n",
      "Ready to play? y or n n\n",
      "Play Again? Enter Yes or No?No\n"
     ]
    }
   ],
   "source": [
    "print('Welcome to Tic Tac Toe!')\n",
    "while True:\n",
    "    the_board = [' ']*10\n",
    "    player1_marker,player2_marker = player_input()\n",
    "    turn = choose_first()\n",
    "    print(turn + ' will go first')\n",
    "    start = input(\"Ready to play? y or n \")\n",
    "    if start == 'y':\n",
    "        game_on = True\n",
    "    else:\n",
    "        game_on = False\n",
    "    while game_on:\n",
    "    \n",
    "        if turn == 'Player 1':\n",
    "            \n",
    "            display_board(the_board)\n",
    "            position = player_choice(the_board)\n",
    "            place_marker(the_board,player1_marker,position)\n",
    "            if win_check(the_board,player1_marker):\n",
    "                display_board(the_board)\n",
    "                print('Player 1 WINS!!!')\n",
    "                game_on = False\n",
    "            else:\n",
    "                if full_board_check(the_board):\n",
    "                    display_board(the_board)\n",
    "                    print('It is a tie!!!')\n",
    "                    game_on = False\n",
    "                else:\n",
    "                    turn = 'Player 2'\n",
    "        else: \n",
    "            display_board(the_board)\n",
    "            position = player_choice(the_board)\n",
    "            place_marker(the_board,player2_marker,position)\n",
    "            if win_check(the_board,player2_marker):\n",
    "                display_board(the_board)\n",
    "                print('Player 2 WINS!!!')\n",
    "                game_on = False\n",
    "            else:\n",
    "                if full_board_check(the_board):\n",
    "                    display_board(the_board)\n",
    "                    print('It is a tie!!!')\n",
    "                    game_on = False\n",
    "                else:\n",
    "                    turn = 'Player 1'\n",
    "    if not replay():\n",
    "        break"
   ]
  },
  {
   "cell_type": "code",
   "execution_count": null,
   "metadata": {},
   "outputs": [],
   "source": []
  },
  {
   "cell_type": "code",
   "execution_count": null,
   "metadata": {},
   "outputs": [],
   "source": []
  }
 ],
 "metadata": {
  "kernelspec": {
   "display_name": "Python 3",
   "language": "python",
   "name": "python3"
  },
  "language_info": {
   "codemirror_mode": {
    "name": "ipython",
    "version": 3
   },
   "file_extension": ".py",
   "mimetype": "text/x-python",
   "name": "python",
   "nbconvert_exporter": "python",
   "pygments_lexer": "ipython3",
   "version": "3.6.5"
  }
 },
 "nbformat": 4,
 "nbformat_minor": 2
}
