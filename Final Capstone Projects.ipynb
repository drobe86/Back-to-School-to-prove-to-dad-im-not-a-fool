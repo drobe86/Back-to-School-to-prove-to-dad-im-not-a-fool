{
 "cells": [
  {
   "cell_type": "code",
   "execution_count": null,
   "metadata": {},
   "outputs": [],
   "source": [
    "def interest_rate():\n",
    "    while True:\n",
    "        try:\n",
    "            ir = float(input('Please enter your interest rate, as a decimal number: '))\n",
    "        except:\n",
    "            print('Sorry, please enter a valid percentage')\n",
    "        else:\n",
    "            if ir > 1:\n",
    "                print('Sorry, your interest rate cannot be over 100%')\n",
    "            else:\n",
    "                break\n",
    "    print('Your interest rate is: '+ str(ir*100)+'%')\n",
    "    return ir"
   ]
  },
  {
   "cell_type": "code",
   "execution_count": null,
   "metadata": {},
   "outputs": [],
   "source": [
    "interest_rate()"
   ]
  },
  {
   "cell_type": "code",
   "execution_count": null,
   "metadata": {},
   "outputs": [],
   "source": [
    "def number_of_months():\n",
    "    n = int(input('Please enter the remaining number of monthly payments: '))\n",
    "    return n\n",
    "    print('The remaining number of monthly payments is: '+str(n))"
   ]
  },
  {
   "cell_type": "code",
   "execution_count": null,
   "metadata": {},
   "outputs": [],
   "source": [
    "number_of_months()"
   ]
  },
  {
   "cell_type": "code",
   "execution_count": null,
   "metadata": {},
   "outputs": [],
   "source": [
    "def mortgage_amount():\n",
    "    FV = int(input('Please enter the total amount you owe on your mortgage without any commas: \\n$'))\n",
    "    return FV\n",
    "    print('The amount you owe is: $'+str(FV))"
   ]
  },
  {
   "cell_type": "code",
   "execution_count": null,
   "metadata": {},
   "outputs": [],
   "source": [
    "mortgage_amount()"
   ]
  },
  {
   "cell_type": "code",
   "execution_count": null,
   "metadata": {},
   "outputs": [],
   "source": [
    "def mortgage_calculator(n,FV,ir):\n",
    "    monthly_payment = FV*(ir*(1+ir)**n)/((1+ir)**n-1)\n",
    "    return monthly_payment\n",
    "    print('Your annual monthly payment will be {} for {} months if you \\n keep your interest rate at {}'.format(monthly_payment,n,ir))"
   ]
  },
  {
   "cell_type": "code",
   "execution_count": null,
   "metadata": {},
   "outputs": [],
   "source": [
    "mortgage_calculator(360,185000,(.0375/12))"
   ]
  },
  {
   "cell_type": "code",
   "execution_count": null,
   "metadata": {},
   "outputs": [],
   "source": [
    "helping = True\n",
    "while helping:\n",
    "    start = input('Hello, would you like to calculate your mortgage? Enter Yes or No: ')\n",
    "    if start == 'Yes':\n",
    "        i = interest_rate()\n",
    "        nu = number_of_months()\n",
    "        amt = mortgage_amount()\n",
    "        pmt = mortgage_calculator(nu,amt,i) \n",
    "        print('Your annual monthly payment will be {} for {} months if you \\n keep your interest rate at {}'.format(pmt,nu,i))\n",
    "        break\n",
    "    else:\n",
    "        print('Why did you even look at this then?')\n",
    "        helping = False\n",
    "    "
   ]
  },
  {
   "cell_type": "code",
   "execution_count": null,
   "metadata": {},
   "outputs": [],
   "source": []
  },
  {
   "cell_type": "code",
   "execution_count": null,
   "metadata": {},
   "outputs": [],
   "source": []
  },
  {
   "cell_type": "code",
   "execution_count": null,
   "metadata": {},
   "outputs": [],
   "source": []
  },
  {
   "cell_type": "code",
   "execution_count": null,
   "metadata": {},
   "outputs": [],
   "source": []
  },
  {
   "cell_type": "code",
   "execution_count": null,
   "metadata": {},
   "outputs": [],
   "source": []
  },
  {
   "cell_type": "code",
   "execution_count": null,
   "metadata": {},
   "outputs": [],
   "source": [
    "#FlowerShop"
   ]
  },
  {
   "cell_type": "code",
   "execution_count": null,
   "metadata": {},
   "outputs": [],
   "source": [
    "class Flowers():\n",
    "    def __init__(self,rose=50,tulip=50,sunflower=100,peone=75,daisey=25):\n",
    "        self.rose = rose\n",
    "        self.tulip = sunflower\n",
    "        self.peone = peone\n",
    "        self.daisey = daisey"
   ]
  },
  {
   "cell_type": "code",
   "execution_count": 12,
   "metadata": {},
   "outputs": [],
   "source": [
    "values_cost = {'Rose':50,'Tulip':50,'Sunflower':100,'Peone':75,'Daisy':25}\n",
    "values_rev = {'Rose':100,'Tulip':100,'Sunflower':200,'Peone':150,'Daisy':50}\n",
    "Flowers = ('Rose','Tuplip','Sunflower','Peone','Daisy')"
   ]
  },
  {
   "cell_type": "code",
   "execution_count": null,
   "metadata": {},
   "outputs": [],
   "source": [
    "class Bouquets():\n",
    "    def __init__(self):\n",
    "        self.cvalue = 0\n",
    "        self.flowers = []\n",
    "        self.rvalue = 0\n",
    "    def bouquet(self):\n",
    "    print('Hello, please choose up to 3 flowers for your bouquet!')\n",
    "    shopping = True\n",
    "    while shopping:\n",
    "        flower1 = str(input('What will be your first flower? Rose, Tulip, Sunflower, Peone, or Daisy: '))\n",
    "        more1 = str(input('Would you like to choose another? Yes or No?: '))\n",
    "        if more1 == 'Yes':\n",
    "            flower2 = str(input('What will be your second flower? Rose, Tulip, Sunflower, Peone, or Daisy: '))\n",
    "            more2 = str(input('Would you like to choose another? Yes or No?: '))\n",
    "            if more2 == 'Yes':\n",
    "                flower3 = str(input('What will be your Third flower? Rose, Tulip, Sunflower, Peone, or Daisy: '))\n",
    "                print('Thank you! That is the maximum amount of flowers you are allowed to have!')\n",
    "                shop_more = str(input('Would you like to purchase another bouquet? Yes or No?: '))\n",
    "                if shop_more == 'Yes':\n",
    "                    shopping = True\n",
    "                    continue\n",
    "            else:\n",
    "                break\n",
    "        else:\n",
    "            break\n",
    "        break\n",
    "        print('Thank you for your purchase!')\n",
    "        self.cvalue = values_cost[flower1] + values_cost[flower2] + values_cost[flower3]\n",
    "        self.rvalue = values_rev[flower1] + values_rev[flower2] + values_rev[flower3]\n",
    "        self.flowers.append[flower1,flower2,flower3]\n",
    "        "
   ]
  },
  {
   "cell_type": "code",
   "execution_count": null,
   "metadata": {},
   "outputs": [],
   "source": [
    "def bouquet():\n",
    "    cvalue = 0\n",
    "    flowers = []\n",
    "    rvalue = 0\n",
    "    print('Hello, please choose up to 3 flowers for your bouquet!')\n",
    "    shopping = True\n",
    "    while shopping:\n",
    "        flower1 = str(input('What will be your first flower? Rose, Tulip, Sunflower, Peone, or Daisy: '))\n",
    "        more1 = str(input('Would you like to choose another? Yes or No?: '))\n",
    "        if more1 == 'Yes':\n",
    "            flower2 = str(input('What will be your second flower? Rose, Tulip, Sunflower, Peone, or Daisy: '))\n",
    "            more2 = str(input('Would you like to choose another? Yes or No?: '))\n",
    "            if more2 == 'Yes':\n",
    "                flower3 = str(input('What will be your Third flower? Rose, Tulip, Sunflower, Peone, or Daisy: '))\n",
    "                print('Thank you! That is the maximum amount of flowers you are allowed to have!')\n",
    "                shop_more = str(input('Would you like to purchase another bouquet? Yes or No?: '))\n",
    "                if shop_more == 'Yes':\n",
    "                    shopping = True\n",
    "                    continue\n",
    "                else:\n",
    "                    break\n",
    "            else:\n",
    "                break\n",
    "        else:\n",
    "            break\n",
    "    print('Thank you for your purchase!')\n",
    "    return(flower1,flower2,flower3) "
   ]
  },
  {
   "cell_type": "code",
   "execution_count": null,
   "metadata": {},
   "outputs": [],
   "source": [
    "bouquet()"
   ]
  },
  {
   "cell_type": "code",
   "execution_count": null,
   "metadata": {},
   "outputs": [],
   "source": [
    "cust_flowers = Bouquets()"
   ]
  },
  {
   "cell_type": "code",
   "execution_count": null,
   "metadata": {},
   "outputs": [],
   "source": [
    "cust_flowers"
   ]
  },
  {
   "cell_type": "code",
   "execution_count": 15,
   "metadata": {},
   "outputs": [],
   "source": [
    "class Bouquets():\n",
    "    def __init__(self):\n",
    "        self.cvalue = 0\n",
    "        self.flowers = []\n",
    "        self.rvalue = 0\n",
    "    def add_flowers(flower1,flower2,flower3):\n",
    "        self.cvalue = values_cost[flower1] + values_cost[flower2] + values_cost[flower3]\n",
    "        self.rvalue = values_rev[flower1] + values_rev[flower2] + values_rev[flower3]\n",
    "        self.flowers.append[flower1,flower2,flower3]\n",
    "        return cvalue\n",
    "        return rvalue\n",
    "        return self.flowers"
   ]
  },
  {
   "cell_type": "code",
   "execution_count": null,
   "metadata": {},
   "outputs": [],
   "source": [
    "cust_flowers = Bouquets()\n",
    "cust_flowers.bouquet()\n",
    "cust_flowers.add_flowers()"
   ]
  },
  {
   "cell_type": "code",
   "execution_count": 16,
   "metadata": {},
   "outputs": [],
   "source": [
    "def bouquet():\n",
    "    print('Hello, please choose up to 3 flowers for your bouquet!')\n",
    "    shopping = True\n",
    "    while shopping:\n",
    "        flower1 = str(input('What will be your first flower? Rose, Tulip, Sunflower, Peone, or Daisy: '))\n",
    "        more1 = str(input('Would you like to choose another? Yes or No?: '))\n",
    "        if more1 == 'Yes':\n",
    "            flower2 = str(input('What will be your second flower? Rose, Tulip, Sunflower, Peone, or Daisy: '))\n",
    "            more2 = str(input('Would you like to choose another? Yes or No?: '))\n",
    "            if more2 == 'Yes':\n",
    "                flower3 = str(input('What will be your Third flower? Rose, Tulip, Sunflower, Peone, or Daisy: '))\n",
    "                print('Thank you! That is the maximum amount of flowers you are allowed to have!')\n",
    "                shop_more = str(input('Would you like to purchase another bouquet? Yes or No?: '))\n",
    "                if shop_more == 'Yes':\n",
    "                    shopping = True\n",
    "                    continue\n",
    "                else:\n",
    "                    break\n",
    "            else:\n",
    "                break\n",
    "        else:\n",
    "            break\n",
    "    print('Thank you for your purchase!')\n",
    "    cvalue = values_cost[flower1] + values_cost[flower2] + values_cost[flower3]\n",
    "    rvalue = values_rev[flower1] + values_rev[flower2] + values_rev[flower3]\n",
    "    print(cvalue)\n",
    "    print(rvalue)\n",
    "    print(flower1,flower2,flower3)"
   ]
  },
  {
   "cell_type": "code",
   "execution_count": 10,
   "metadata": {},
   "outputs": [
    {
     "name": "stdout",
     "output_type": "stream",
     "text": [
      "Hello, please choose up to 3 flowers for your bouquet!\n",
      "What will be your first flower? Rose, Tulip, Sunflower, Peone, or Daisy: Rose\n",
      "Would you like to choose another? Yes or No?: Yes\n",
      "What will be your second flower? Rose, Tulip, Sunflower, Peone, or Daisy: Rose\n",
      "Would you like to choose another? Yes or No?: Yes\n",
      "What will be your Third flower? Rose, Tulip, Sunflower, Peone, or Daisy: Rose\n",
      "Thank you! That is the maximum amount of flowers you are allowed to have!\n",
      "Would you like to purchase another bouquet? Yes or No?: No\n",
      "Thank you for your purchase!\n",
      "150\n",
      "300\n",
      "Rose Rose Rose\n"
     ]
    }
   ],
   "source": [
    "bouquet()"
   ]
  },
  {
   "cell_type": "code",
   "execution_count": null,
   "metadata": {},
   "outputs": [],
   "source": []
  },
  {
   "cell_type": "code",
   "execution_count": null,
   "metadata": {},
   "outputs": [],
   "source": [
    "\n"
   ]
  },
  {
   "cell_type": "code",
   "execution_count": null,
   "metadata": {},
   "outputs": [],
   "source": [
    "def add_flowers(flower1,flower2,flower3):\n",
    "        cvalue = 0\n",
    "        flowers = []\n",
    "        rvalue = 0\n",
    "        cvalue = values_cost[flower1] + values_cost[flower2] + values_cost[flower3]\n",
    "        rvalue = values_rev[flower1] + values_rev[flower2] + values_rev[flower3]\n",
    "        flowers.append[flower1,flower2,flower3]\n",
    "        return cvalue\n",
    "        return rvalue\n",
    "        return self.flowers"
   ]
  },
  {
   "cell_type": "code",
   "execution_count": null,
   "metadata": {},
   "outputs": [],
   "source": []
  },
  {
   "cell_type": "code",
   "execution_count": null,
   "metadata": {},
   "outputs": [],
   "source": []
  },
  {
   "cell_type": "code",
   "execution_count": null,
   "metadata": {},
   "outputs": [],
   "source": []
  },
  {
   "cell_type": "code",
   "execution_count": null,
   "metadata": {},
   "outputs": [],
   "source": []
  },
  {
   "cell_type": "code",
   "execution_count": null,
   "metadata": {},
   "outputs": [],
   "source": []
  },
  {
   "cell_type": "code",
   "execution_count": null,
   "metadata": {},
   "outputs": [],
   "source": []
  },
  {
   "cell_type": "code",
   "execution_count": null,
   "metadata": {},
   "outputs": [],
   "source": []
  },
  {
   "cell_type": "code",
   "execution_count": null,
   "metadata": {},
   "outputs": [],
   "source": []
  },
  {
   "cell_type": "code",
   "execution_count": null,
   "metadata": {},
   "outputs": [],
   "source": []
  },
  {
   "cell_type": "code",
   "execution_count": null,
   "metadata": {},
   "outputs": [],
   "source": []
  },
  {
   "cell_type": "code",
   "execution_count": 5,
   "metadata": {},
   "outputs": [],
   "source": [
    "class Bouquets():\n",
    "    def __init__(self):\n",
    "        self.cvalue = 0\n",
    "        self.flowers = []\n",
    "        self.rvalue = 0\n",
    "    def add_flowers(self):\n",
    "        self.cvalue = values_cost[flower1] + values_cost[flower2] + values_cost[flower3]\n",
    "        self.rvalue = values_rev[flower1] + values_rev[flower2] + values_rev[flower3]\n",
    "        self.flowers.append[flower1,flower2,flower3]\n",
    "        print(cvalue)\n",
    "        print(rvalue)\n",
    "        print(self.flowers)\n",
    "    def bouquet(self):\n",
    "        print('Hello, please choose up to 3 flowers for your bouquet!')\n",
    "        shopping = True\n",
    "        while shopping:\n",
    "            flower1 = str(input('What will be your first flower? Rose, Tulip, Sunflower, Peone, or Daisy: '))\n",
    "            more1 = str(input('Would you like to choose another? Yes or No?: '))\n",
    "            if more1 == 'Yes':\n",
    "                flower2 = str(input('What will be your second flower? Rose, Tulip, Sunflower, Peone, or Daisy: '))\n",
    "                more2 = str(input('Would you like to choose another? Yes or No?: '))\n",
    "                if more2 == 'Yes':\n",
    "                    flower3 = str(input('What will be your Third flower? Rose, Tulip, Sunflower, Peone, or Daisy: '))\n",
    "                    print('Thank you! That is the maximum amount of flowers you are allowed to have!')\n",
    "                    shop_more = str(input('Would you like to purchase another bouquet? Yes or No?: '))\n",
    "                    if shop_more == 'Yes':\n",
    "                        shopping = True\n",
    "                        continue\n",
    "                    else:\n",
    "                        break\n",
    "                else:\n",
    "                    break\n",
    "            else:\n",
    "                break\n",
    "        print('Thank you for your purchase!')\n",
    "        return[flower1,flower2,flower3]"
   ]
  },
  {
   "cell_type": "code",
   "execution_count": 22,
   "metadata": {},
   "outputs": [
    {
     "name": "stdout",
     "output_type": "stream",
     "text": [
      "Hello, please choose up to 3 flowers for your bouquet!\n",
      "What will be your first flower? Rose, Tulip, Sunflower, Peone, or Daisy: Rose\n",
      "Would you like to choose another? Yes or No?: Yes\n",
      "What will be your second flower? Rose, Tulip, Sunflower, Peone, or Daisy: Rose\n",
      "Would you like to choose another? Yes or No?: Yes\n",
      "What will be your Third flower? Rose, Tulip, Sunflower, Peone, or Daisy: Rose\n",
      "Thank you! That is the maximum amount of flowers you are allowed to have!\n",
      "Would you like to purchase another bouquet? Yes or No?: No\n",
      "Thank you for your purchase!\n"
     ]
    },
    {
     "ename": "AttributeError",
     "evalue": "'list' object has no attribute 'add_flowers'",
     "output_type": "error",
     "traceback": [
      "\u001b[1;31m---------------------------------------------------------------------------\u001b[0m",
      "\u001b[1;31mAttributeError\u001b[0m                            Traceback (most recent call last)",
      "\u001b[1;32m<ipython-input-22-41f4cc097c7a>\u001b[0m in \u001b[0;36m<module>\u001b[1;34m()\u001b[0m\n\u001b[0;32m      1\u001b[0m \u001b[0mmy_bouquet\u001b[0m \u001b[1;33m=\u001b[0m \u001b[0mBouquets\u001b[0m\u001b[1;33m(\u001b[0m\u001b[1;33m)\u001b[0m\u001b[1;33m\u001b[0m\u001b[0m\n\u001b[0;32m      2\u001b[0m \u001b[0mnew_bouquet\u001b[0m \u001b[1;33m=\u001b[0m \u001b[0mmy_bouquet\u001b[0m\u001b[1;33m.\u001b[0m\u001b[0mbouquet\u001b[0m\u001b[1;33m(\u001b[0m\u001b[1;33m)\u001b[0m\u001b[1;33m\u001b[0m\u001b[0m\n\u001b[1;32m----> 3\u001b[1;33m \u001b[0mnew_bouquet\u001b[0m\u001b[1;33m.\u001b[0m\u001b[0madd_flowers\u001b[0m\u001b[1;33m(\u001b[0m\u001b[1;33m)\u001b[0m\u001b[1;33m\u001b[0m\u001b[0m\n\u001b[0m",
      "\u001b[1;31mAttributeError\u001b[0m: 'list' object has no attribute 'add_flowers'"
     ]
    }
   ],
   "source": [
    "my_bouquet = Bouquets()\n",
    "new_bouquet = my_bouquet.bouquet()\n",
    "new_bouquet.add_flowers()"
   ]
  },
  {
   "cell_type": "code",
   "execution_count": null,
   "metadata": {},
   "outputs": [],
   "source": []
  },
  {
   "cell_type": "code",
   "execution_count": 17,
   "metadata": {},
   "outputs": [],
   "source": [
    "values_cost = {'Rose':50,'Tulip':50,'Sunflower':100,'Peone':75,'Daisy':25}\n",
    "values_rev = {'Rose':100,'Tulip':100,'Sunflower':200,'Peone':150,'Daisy':50}\n",
    "Flowers = ('Rose','Tuplip','Sunflower','Peone','Daisy')\n"
   ]
  },
  {
   "cell_type": "code",
   "execution_count": 18,
   "metadata": {},
   "outputs": [],
   "source": [
    "class Bouquets():\n",
    "    \n",
    "    def __init__(self):\n",
    "        self.rvalue = 0\n",
    "        self.cvalue = 0\n",
    "        self.flowers = []\n",
    "        self.bank = 100\n",
    "    def add_flower(self,flower):\n",
    "        self.flowers.append(flower)\n",
    "        self.rvalue = self.rvalue + values_rev[flower]\n",
    "        self.cvalue = self.cvalue + values_cost[flower]\n",
    "        print(self.rvalue)\n",
    "        print(self.cvalue)\n",
    "        print(self.flowers)\n",
    "    def withdraw_money(self,flower):\n",
    "        self.bank = self.bank - self.cvalue\n",
    "    def deposit_money(self,flower):\n",
    "        self.bank = self.bank + self.rvalue\n",
    "    def __str__(self):\n",
    "        return('Your total is {} \\nMy bank account total is {}'.format(self.rvalue,self.bank))"
   ]
  },
  {
   "cell_type": "code",
   "execution_count": 2,
   "metadata": {},
   "outputs": [],
   "source": [
    "def flowers():\n",
    "    flower"
   ]
  },
  {
   "cell_type": "code",
   "execution_count": 3,
   "metadata": {},
   "outputs": [],
   "source": [
    "#Define flowers and their values of cost and rev\n",
    "#Define starting bank account\n"
   ]
  },
  {
   "cell_type": "code",
   "execution_count": 23,
   "metadata": {},
   "outputs": [
    {
     "name": "stdout",
     "output_type": "stream",
     "text": [
      "Hello, Welcome to Flow Her? I barely know her! Flower shop\n",
      "Would you like to buy some flowers? Yes or No?: Yes\n",
      "What flower would you like to buy? A Daisy, Rose, Tulip, Peone, or Sunflower?: Rose\n",
      "100\n",
      "50\n",
      "['Rose']\n",
      "Would you like to add another flower to your bouquet? Yes or No: Yes\n",
      "What flower would you like to buy? A Daisy, Rose, Tulip, Peone, or Sunflower?: Rose\n",
      "200\n",
      "100\n",
      "['Rose', 'Rose']\n",
      "Would you like to add another flower to your bouquet? Yes or No: No\n",
      "Would you like to buy another bouquet or flower? Yes or No: Yes\n",
      "What flower would you like to buy? A Daisy, Rose, Tulip, Peone, or Sunflower?: Daisy\n",
      "250\n",
      "125\n",
      "['Rose', 'Rose', 'Daisy']\n",
      "Would you like to add another flower to your bouquet? Yes or No: No\n",
      "Would you like to buy another bouquet or flower? Yes or No: No\n",
      "Your total is 250 \n",
      "My bank account total is 375\n",
      "Thank you, have a nice day!!\n"
     ]
    }
   ],
   "source": [
    "# Say Hello, Welcome to the flower shop\n",
    "cust_bouquet = Bouquets()\n",
    "print('Hello, Welcome to Flow Her? I barely know her! Flower shop')\n",
    "#Choose a bouquet of anywhere from 1-3 flowers\n",
    "start = input('Would you like to buy some flowers? Yes or No?: ')\n",
    "if start == 'Yes':\n",
    "    shopping = True\n",
    "#Ask for the first flower\n",
    "while shopping:\n",
    "    flower1 = input('What flower would you like to buy? A Daisy, Rose, Tulip, Peone, or Sunflower?: ')\n",
    "    cust_bouquet.add_flower(flower1)\n",
    "    cust_bouquet.withdraw_money(flower1)\n",
    "    cust_bouquet.deposit_money(flower1)\n",
    "    \n",
    "    #Ask if they would like another flower to add to the bouquet\n",
    "    continue1 = input('Would you like to add another flower to your bouquet? Yes or No: ')\n",
    "    if continue1 == 'Yes':\n",
    "        #If yes, add it to the bouquet\n",
    "        flower2 = input('What flower would you like to buy? A Daisy, Rose, Tulip, Peone, or Sunflower?: ')\n",
    "        cust_bouquet.add_flower(flower2)\n",
    "        cust_bouquet.withdraw_money(flower2)\n",
    "        cust_bouquet.deposit_money(flower2)\n",
    "        #Ask if they would like another flower to add to the bouquet\n",
    "        continue2 = input('Would you like to add another flower to your bouquet? Yes or No: ')\n",
    "        if continue2 == 'Yes':\n",
    "            #If yes, add it to the bouquet and add up total\n",
    "            flower3 = input('What flower would you like to buy? A Daisy, Rose, Tulip, Peone, or Sunflower?: ')\n",
    "            cust_bouquet.add_flower(flower3)\n",
    "            cust_bouquet.withdraw_money(flower3)\n",
    "            cust_bouquet.deposit_money(flower3)\n",
    "            #Say they have reached their maximum amount of flowers\n",
    "            print('You have reached the maximum amount of flowers in a bouquet')\n",
    "            shopping = False\n",
    "        #If no, stop shopping and ask for another bouquet and add up the total\n",
    "        else:\n",
    "            shopping = False\n",
    "    #If no, stop shopping and ask for another bouquet and add up the total\n",
    "    else:\n",
    "        shopping = False\n",
    "    #Ask if they would like to buy another bouquet. IF yes, continue shopping and start at the step asking for the first flower\n",
    "    more_bouquets = input('Would you like to buy another bouquet or flower? Yes or No: ')\n",
    "    if more_bouquets == 'Yes':\n",
    "        shopping = True\n",
    "        continue\n",
    "    #If no, stop shopping, tell the customer their total, reduce bank by total cost, add total rev to bank\n",
    "    else:\n",
    "        shopping = False\n",
    "        print(cust_bouquet)\n",
    "    #Thank customer, and tell them to have a nice day\n",
    "else:\n",
    "    print('Thank you, have a nice day!!')\n",
    "\n"
   ]
  },
  {
   "cell_type": "code",
   "execution_count": 28,
   "metadata": {},
   "outputs": [],
   "source": [
    "cust_bouquet = Bouquets()"
   ]
  },
  {
   "cell_type": "code",
   "execution_count": 30,
   "metadata": {},
   "outputs": [
    {
     "name": "stdout",
     "output_type": "stream",
     "text": [
      "200\n",
      "100\n",
      "['Rose', 'Rose']\n",
      "250\n",
      "125\n",
      "['Rose', 'Rose', 'Daisy']\n"
     ]
    }
   ],
   "source": [
    "cust_bouquet.add_flower('Rose')\n",
    "cust_bouquet.add_flower('Daisy')"
   ]
  },
  {
   "cell_type": "code",
   "execution_count": null,
   "metadata": {},
   "outputs": [],
   "source": []
  }
 ],
 "metadata": {
  "kernelspec": {
   "display_name": "Python 3",
   "language": "python",
   "name": "python3"
  },
  "language_info": {
   "codemirror_mode": {
    "name": "ipython",
    "version": 3
   },
   "file_extension": ".py",
   "mimetype": "text/x-python",
   "name": "python",
   "nbconvert_exporter": "python",
   "pygments_lexer": "ipython3",
   "version": "3.6.5"
  }
 },
 "nbformat": 4,
 "nbformat_minor": 2
}
