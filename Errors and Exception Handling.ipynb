{
 "cells": [
  {
   "cell_type": "code",
   "execution_count": 1,
   "metadata": {},
   "outputs": [],
   "source": [
    "#try: The block of code to be attempted (may lead to an error)\n",
    "#Except: Block of code will executre in case there is an error in try block\n",
    "#Finally: A final block of code to be executed, regardless of an error"
   ]
  },
  {
   "cell_type": "code",
   "execution_count": 2,
   "metadata": {},
   "outputs": [],
   "source": [
    "def add(n1,n2):\n",
    "    print(n1+n2)"
   ]
  },
  {
   "cell_type": "code",
   "execution_count": 3,
   "metadata": {},
   "outputs": [
    {
     "name": "stdout",
     "output_type": "stream",
     "text": [
      "30\n"
     ]
    }
   ],
   "source": [
    "add(10,20)"
   ]
  },
  {
   "cell_type": "code",
   "execution_count": 4,
   "metadata": {},
   "outputs": [],
   "source": [
    "number1 = 10"
   ]
  },
  {
   "cell_type": "code",
   "execution_count": 5,
   "metadata": {},
   "outputs": [
    {
     "name": "stdout",
     "output_type": "stream",
     "text": [
      "please provide a number: 20\n"
     ]
    }
   ],
   "source": [
    "number2 = input('please provide a number: ')"
   ]
  },
  {
   "cell_type": "code",
   "execution_count": 7,
   "metadata": {},
   "outputs": [
    {
     "ename": "TypeError",
     "evalue": "unsupported operand type(s) for +: 'int' and 'str'",
     "output_type": "error",
     "traceback": [
      "\u001b[1;31m---------------------------------------------------------------------------\u001b[0m",
      "\u001b[1;31mTypeError\u001b[0m                                 Traceback (most recent call last)",
      "\u001b[1;32m<ipython-input-7-62bd4f0daff0>\u001b[0m in \u001b[0;36m<module>\u001b[1;34m()\u001b[0m\n\u001b[1;32m----> 1\u001b[1;33m \u001b[0madd\u001b[0m\u001b[1;33m(\u001b[0m\u001b[0mnumber1\u001b[0m\u001b[1;33m,\u001b[0m\u001b[0mnumber2\u001b[0m\u001b[1;33m)\u001b[0m\u001b[1;33m\u001b[0m\u001b[0m\n\u001b[0m\u001b[0;32m      2\u001b[0m \u001b[0mprint\u001b[0m\u001b[1;33m(\u001b[0m\u001b[1;34m'Something Happened'\u001b[0m\u001b[1;33m)\u001b[0m\u001b[1;33m\u001b[0m\u001b[0m\n",
      "\u001b[1;32m<ipython-input-2-48bddae7e371>\u001b[0m in \u001b[0;36madd\u001b[1;34m(n1, n2)\u001b[0m\n\u001b[0;32m      1\u001b[0m \u001b[1;32mdef\u001b[0m \u001b[0madd\u001b[0m\u001b[1;33m(\u001b[0m\u001b[0mn1\u001b[0m\u001b[1;33m,\u001b[0m\u001b[0mn2\u001b[0m\u001b[1;33m)\u001b[0m\u001b[1;33m:\u001b[0m\u001b[1;33m\u001b[0m\u001b[0m\n\u001b[1;32m----> 2\u001b[1;33m     \u001b[0mprint\u001b[0m\u001b[1;33m(\u001b[0m\u001b[0mn1\u001b[0m\u001b[1;33m+\u001b[0m\u001b[0mn2\u001b[0m\u001b[1;33m)\u001b[0m\u001b[1;33m\u001b[0m\u001b[0m\n\u001b[0m",
      "\u001b[1;31mTypeError\u001b[0m: unsupported operand type(s) for +: 'int' and 'str'"
     ]
    }
   ],
   "source": [
    "add(number1,number2) #Error because input is an always a string\n",
    "print('Something Happened')"
   ]
  },
  {
   "cell_type": "code",
   "execution_count": 8,
   "metadata": {},
   "outputs": [],
   "source": [
    "try:\n",
    "    # WANT TO ATTEMPT THIS CODE\n",
    "    #MAY HAVE AN ERROR\n",
    "    result = 10+10\n",
    "except:\n",
    "    print(\"Hey it looks like you aren't adding correctly\")"
   ]
  },
  {
   "cell_type": "code",
   "execution_count": 9,
   "metadata": {},
   "outputs": [
    {
     "data": {
      "text/plain": [
       "20"
      ]
     },
     "execution_count": 9,
     "metadata": {},
     "output_type": "execute_result"
    }
   ],
   "source": [
    "result"
   ]
  },
  {
   "cell_type": "code",
   "execution_count": 10,
   "metadata": {},
   "outputs": [
    {
     "name": "stdout",
     "output_type": "stream",
     "text": [
      "Hey it looks like you aren't adding correctly\n"
     ]
    }
   ],
   "source": [
    "try:\n",
    "    # WANT TO ATTEMPT THIS CODE\n",
    "    #MAY HAVE AN ERROR\n",
    "    result = 10+'10'\n",
    "except:\n",
    "    print(\"Hey it looks like you aren't adding correctly\")\n",
    "    #if there is any error, do this block of code\n",
    "else:\n",
    "    print('Add went well!')\n",
    "    print(result)"
   ]
  },
  {
   "cell_type": "code",
   "execution_count": 13,
   "metadata": {},
   "outputs": [
    {
     "name": "stdout",
     "output_type": "stream",
     "text": [
      "Add went well!\n",
      "20\n"
     ]
    }
   ],
   "source": [
    "try:\n",
    "    # WANT TO ATTEMPT THIS CODE\n",
    "    #MAY HAVE AN ERROR\n",
    "    result = 10+10\n",
    "except:\n",
    "    print(\"Hey it looks like you aren't adding correctly\")\n",
    "    #if there is any error, do this block of code\n",
    "else:\n",
    "    print('Add went well!')\n",
    "    print(result)"
   ]
  },
  {
   "cell_type": "code",
   "execution_count": null,
   "metadata": {},
   "outputs": [],
   "source": []
  },
  {
   "cell_type": "code",
   "execution_count": null,
   "metadata": {},
   "outputs": [],
   "source": []
  },
  {
   "cell_type": "code",
   "execution_count": null,
   "metadata": {},
   "outputs": [],
   "source": []
  },
  {
   "cell_type": "code",
   "execution_count": null,
   "metadata": {},
   "outputs": [],
   "source": []
  },
  {
   "cell_type": "code",
   "execution_count": 14,
   "metadata": {},
   "outputs": [
    {
     "name": "stdout",
     "output_type": "stream",
     "text": [
      "I always run\n"
     ]
    }
   ],
   "source": [
    "try:\n",
    "    f = open('testfile','w') #w mode allows you to open file and write in it or\n",
    "                                #create file if it doesn't already exist\n",
    "    f.write('Write a test line')\n",
    "except TypeError:\n",
    "    print('There was a type error!')\n",
    "except OSError: #There error that will occur if you open a file you don't have permissions to\n",
    "    print('Hey you have an OS Error')\n",
    "finally:\n",
    "    print('I always run')#This always runs, regardless of an error"
   ]
  },
  {
   "cell_type": "code",
   "execution_count": 15,
   "metadata": {},
   "outputs": [
    {
     "name": "stdout",
     "output_type": "stream",
     "text": [
      "Hey you have an OS Error\n",
      "I always run\n"
     ]
    }
   ],
   "source": [
    "try:\n",
    "    f = open('testfile','r') #now that its in read mode, we can't write to it. OS error\n",
    "    f.write('Write a test line')\n",
    "except TypeError:\n",
    "    print('There was a type error!')\n",
    "except OSError: \n",
    "    print('Hey you have an OS Error')\n",
    "finally:\n",
    "    print('I always run')"
   ]
  },
  {
   "cell_type": "code",
   "execution_count": 16,
   "metadata": {},
   "outputs": [],
   "source": [
    "def ask_for_int():\n",
    "    try:\n",
    "        result = int(input('Please prive number: '))\n",
    "    except:\n",
    "        print('Whoops, that is not a number')\n",
    "    finally:\n",
    "        print('End of try/except/finally') \n",
    "        #This will run if we enter an integer\n",
    "        "
   ]
  },
  {
   "cell_type": "code",
   "execution_count": 17,
   "metadata": {},
   "outputs": [
    {
     "name": "stdout",
     "output_type": "stream",
     "text": [
      "Please prive number: 20\n",
      "End of try/except/finally\n"
     ]
    }
   ],
   "source": [
    "ask_for_int()"
   ]
  },
  {
   "cell_type": "code",
   "execution_count": 18,
   "metadata": {},
   "outputs": [
    {
     "name": "stdout",
     "output_type": "stream",
     "text": [
      "Please prive number: word\n",
      "Whoops, that is not a number\n",
      "End of try/except/finally\n"
     ]
    }
   ],
   "source": [
    "ask_for_int()"
   ]
  },
  {
   "cell_type": "code",
   "execution_count": 19,
   "metadata": {},
   "outputs": [],
   "source": [
    "def ask_for_int():\n",
    "    \n",
    "    while True: #if use while True, need to use a break statement to break out of loop\n",
    "        try:\n",
    "            result = int(input('Please prive number: '))\n",
    "        except:\n",
    "            print('Whoops, that is not a number')\n",
    "            continue #continue to ask for an integer\n",
    "        else:\n",
    "            print('Yes thank you')\n",
    "            break #break out of while loop once you are given an interger, and there is no error\n",
    "        finally:\n",
    "            print('End of try/except/finally')\n",
    "            print('I will always run at the end')"
   ]
  },
  {
   "cell_type": "code",
   "execution_count": 20,
   "metadata": {},
   "outputs": [
    {
     "name": "stdout",
     "output_type": "stream",
     "text": [
      "Please prive number: 20\n",
      "Yes thank you\n",
      "End of try/except/finally\n",
      "I will always run at the end\n"
     ]
    }
   ],
   "source": [
    "ask_for_int()"
   ]
  },
  {
   "cell_type": "code",
   "execution_count": 21,
   "metadata": {},
   "outputs": [
    {
     "name": "stdout",
     "output_type": "stream",
     "text": [
      "Please prive number: q\n",
      "Whoops, that is not a number\n",
      "End of try/except/finally\n",
      "I will always run at the end\n",
      "Please prive number: q\n",
      "Whoops, that is not a number\n",
      "End of try/except/finally\n",
      "I will always run at the end\n",
      "Please prive number: 20\n",
      "Yes thank you\n",
      "End of try/except/finally\n",
      "I will always run at the end\n"
     ]
    }
   ],
   "source": [
    "ask_for_int()"
   ]
  },
  {
   "cell_type": "code",
   "execution_count": null,
   "metadata": {},
   "outputs": [],
   "source": []
  }
 ],
 "metadata": {
  "kernelspec": {
   "display_name": "Python 3",
   "language": "python",
   "name": "python3"
  },
  "language_info": {
   "codemirror_mode": {
    "name": "ipython",
    "version": 3
   },
   "file_extension": ".py",
   "mimetype": "text/x-python",
   "name": "python",
   "nbconvert_exporter": "python",
   "pygments_lexer": "ipython3",
   "version": "3.6.5"
  }
 },
 "nbformat": 4,
 "nbformat_minor": 2
}
