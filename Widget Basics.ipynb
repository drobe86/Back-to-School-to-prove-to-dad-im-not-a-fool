{
 "cells": [
  {
   "cell_type": "code",
   "execution_count": 3,
   "metadata": {},
   "outputs": [],
   "source": [
    "import ipywidgets as widgets"
   ]
  },
  {
   "cell_type": "code",
   "execution_count": 5,
   "metadata": {},
   "outputs": [],
   "source": [
    "w = widgets.IntSlider()"
   ]
  },
  {
   "cell_type": "code",
   "execution_count": 6,
   "metadata": {},
   "outputs": [],
   "source": [
    "from IPython.display import display"
   ]
  },
  {
   "cell_type": "code",
   "execution_count": 7,
   "metadata": {},
   "outputs": [
    {
     "data": {
      "application/vnd.jupyter.widget-view+json": {
       "model_id": "",
       "version_major": 2,
       "version_minor": 0
      },
      "text/plain": [
       "IntSlider(value=0)"
      ]
     },
     "metadata": {},
     "output_type": "display_data"
    }
   ],
   "source": [
    "display(w)"
   ]
  },
  {
   "cell_type": "code",
   "execution_count": 8,
   "metadata": {},
   "outputs": [
    {
     "data": {
      "application/vnd.jupyter.widget-view+json": {
       "model_id": "",
       "version_major": 2,
       "version_minor": 0
      },
      "text/plain": [
       "IntSlider(value=0)"
      ]
     },
     "metadata": {},
     "output_type": "display_data"
    }
   ],
   "source": [
    "display(w) #in sync with the one above, they are connected"
   ]
  },
  {
   "cell_type": "code",
   "execution_count": 9,
   "metadata": {},
   "outputs": [],
   "source": [
    "w.close() #closes the widgets"
   ]
  },
  {
   "cell_type": "code",
   "execution_count": 10,
   "metadata": {},
   "outputs": [
    {
     "data": {
      "application/vnd.jupyter.widget-view+json": {
       "model_id": "0d00fa480f5349ca899b5d62e08e4e1f",
       "version_major": 2,
       "version_minor": 0
      },
      "text/plain": [
       "IntSlider(value=0)"
      ]
     },
     "metadata": {},
     "output_type": "display_data"
    }
   ],
   "source": [
    "w = widgets.IntSlider()\n",
    "display(w)"
   ]
  },
  {
   "cell_type": "code",
   "execution_count": 12,
   "metadata": {},
   "outputs": [
    {
     "data": {
      "text/plain": [
       "33"
      ]
     },
     "execution_count": 12,
     "metadata": {},
     "output_type": "execute_result"
    }
   ],
   "source": [
    "w.value"
   ]
  },
  {
   "cell_type": "code",
   "execution_count": 14,
   "metadata": {},
   "outputs": [],
   "source": [
    "w.value = 50 #set the display back to the given number"
   ]
  },
  {
   "cell_type": "code",
   "execution_count": 16,
   "metadata": {},
   "outputs": [
    {
     "data": {
      "text/plain": [
       "['_dom_classes',\n",
       " '_model_module',\n",
       " '_model_module_version',\n",
       " '_model_name',\n",
       " '_view_count',\n",
       " '_view_module',\n",
       " '_view_module_version',\n",
       " '_view_name',\n",
       " 'continuous_update',\n",
       " 'description',\n",
       " 'disabled',\n",
       " 'layout',\n",
       " 'max',\n",
       " 'min',\n",
       " 'orientation',\n",
       " 'readout',\n",
       " 'readout_format',\n",
       " 'step',\n",
       " 'style',\n",
       " 'value']"
      ]
     },
     "execution_count": 16,
     "metadata": {},
     "output_type": "execute_result"
    }
   ],
   "source": [
    "w.keys #staple properties, can grab the property, reassign it and it will affect the display"
   ]
  },
  {
   "cell_type": "code",
   "execution_count": 22,
   "metadata": {},
   "outputs": [
    {
     "data": {
      "application/vnd.jupyter.widget-view+json": {
       "model_id": "2fabd0acede3401eb02574723c62ea60",
       "version_major": 2,
       "version_minor": 0
      },
      "text/plain": [
       "FloatText(value=0.0)"
      ]
     },
     "metadata": {},
     "output_type": "display_data"
    },
    {
     "data": {
      "application/vnd.jupyter.widget-view+json": {
       "model_id": "b9b3219c44eb4f8480bc5f964808daff",
       "version_major": 2,
       "version_minor": 0
      },
      "text/plain": [
       "FloatSlider(value=0.0)"
      ]
     },
     "metadata": {},
     "output_type": "display_data"
    }
   ],
   "source": [
    "a = widgets.FloatText()\n",
    "b = widgets.FloatSlider()\n",
    "display(a,b)\n",
    "\n",
    "mylink = widgets.jslink((a,'value'),(b,'value')) #links the two widets value together"
   ]
  },
  {
   "cell_type": "code",
   "execution_count": 23,
   "metadata": {},
   "outputs": [
    {
     "data": {
      "application/vnd.jupyter.widget-view+json": {
       "model_id": "2fabd0acede3401eb02574723c62ea60",
       "version_major": 2,
       "version_minor": 0
      },
      "text/plain": [
       "FloatText(value=0.0)"
      ]
     },
     "metadata": {},
     "output_type": "display_data"
    }
   ],
   "source": [
    "display(a)"
   ]
  },
  {
   "cell_type": "code",
   "execution_count": 24,
   "metadata": {},
   "outputs": [
    {
     "data": {
      "application/vnd.jupyter.widget-view+json": {
       "model_id": "52c7b8190a8c4c1dad14ba8d0d5082f7",
       "version_major": 2,
       "version_minor": 0
      },
      "text/plain": [
       "FloatText(value=0.0)"
      ]
     },
     "metadata": {},
     "output_type": "display_data"
    },
    {
     "data": {
      "application/vnd.jupyter.widget-view+json": {
       "model_id": "d55e2614c21c44cf949d0e992a118d91",
       "version_major": 2,
       "version_minor": 0
      },
      "text/plain": [
       "FloatSlider(value=0.0)"
      ]
     },
     "metadata": {},
     "output_type": "display_data"
    }
   ],
   "source": [
    "a = widgets.FloatText()\n",
    "b = widgets.FloatSlider()\n",
    "display(a,b)\n",
    "\n",
    "mylink = widgets.jslink((a,'value'),(b,'max')) #links the two widet's max together"
   ]
  },
  {
   "cell_type": "code",
   "execution_count": 26,
   "metadata": {},
   "outputs": [],
   "source": [
    "mylink.unlink() #unlinks the widgets"
   ]
  },
  {
   "cell_type": "code",
   "execution_count": 36,
   "metadata": {},
   "outputs": [
    {
     "name": "stdout",
     "output_type": "stream",
     "text": [
      "('@jupyter-widgets/base', '1.0.0', 'LayoutModel', '@jupyter-widgets/base', '1.0.0', 'LayoutView')\n",
      "('@jupyter-widgets/controls', '1.2.0', 'AccordionModel', '@jupyter-widgets/controls', '1.2.0', 'AccordionView')\n",
      "('@jupyter-widgets/controls', '1.2.0', 'BoundedFloatTextModel', '@jupyter-widgets/controls', '1.2.0', 'FloatTextView')\n",
      "('@jupyter-widgets/controls', '1.2.0', 'BoundedIntTextModel', '@jupyter-widgets/controls', '1.2.0', 'IntTextView')\n",
      "('@jupyter-widgets/controls', '1.2.0', 'BoxModel', '@jupyter-widgets/controls', '1.2.0', 'BoxView')\n",
      "('@jupyter-widgets/controls', '1.2.0', 'ButtonModel', '@jupyter-widgets/controls', '1.2.0', 'ButtonView')\n",
      "('@jupyter-widgets/controls', '1.2.0', 'ButtonStyleModel', '@jupyter-widgets/base', '1.0.0', 'StyleView')\n",
      "('@jupyter-widgets/controls', '1.2.0', 'CheckboxModel', '@jupyter-widgets/controls', '1.2.0', 'CheckboxView')\n",
      "('@jupyter-widgets/controls', '1.2.0', 'ColorPickerModel', '@jupyter-widgets/controls', '1.2.0', 'ColorPickerView')\n",
      "('@jupyter-widgets/controls', '1.2.0', 'ControllerAxisModel', '@jupyter-widgets/controls', '1.2.0', 'ControllerAxisView')\n",
      "('@jupyter-widgets/controls', '1.2.0', 'ControllerButtonModel', '@jupyter-widgets/controls', '1.2.0', 'ControllerButtonView')\n",
      "('@jupyter-widgets/controls', '1.2.0', 'ControllerModel', '@jupyter-widgets/controls', '1.2.0', 'ControllerView')\n",
      "('@jupyter-widgets/controls', '1.2.0', 'DatePickerModel', '@jupyter-widgets/controls', '1.2.0', 'DatePickerView')\n",
      "('@jupyter-widgets/controls', '1.2.0', 'DescriptionStyleModel', '@jupyter-widgets/base', '1.0.0', 'StyleView')\n",
      "('@jupyter-widgets/controls', '1.2.0', 'DirectionalLinkModel', '@jupyter-widgets/controls', '1.2.0', None)\n",
      "('@jupyter-widgets/controls', '1.2.0', 'DropdownModel', '@jupyter-widgets/controls', '1.2.0', 'DropdownView')\n",
      "('@jupyter-widgets/controls', '1.2.0', 'FloatLogSliderModel', '@jupyter-widgets/controls', '1.2.0', 'FloatLogSliderView')\n",
      "('@jupyter-widgets/controls', '1.2.0', 'FloatProgressModel', '@jupyter-widgets/controls', '1.2.0', 'ProgressView')\n",
      "('@jupyter-widgets/controls', '1.2.0', 'FloatRangeSliderModel', '@jupyter-widgets/controls', '1.2.0', 'FloatRangeSliderView')\n",
      "('@jupyter-widgets/controls', '1.2.0', 'FloatSliderModel', '@jupyter-widgets/controls', '1.2.0', 'FloatSliderView')\n",
      "('@jupyter-widgets/controls', '1.2.0', 'FloatTextModel', '@jupyter-widgets/controls', '1.2.0', 'FloatTextView')\n",
      "('@jupyter-widgets/controls', '1.2.0', 'HBoxModel', '@jupyter-widgets/controls', '1.2.0', 'HBoxView')\n",
      "('@jupyter-widgets/controls', '1.2.0', 'HTMLMathModel', '@jupyter-widgets/controls', '1.2.0', 'HTMLMathView')\n",
      "('@jupyter-widgets/controls', '1.2.0', 'HTMLModel', '@jupyter-widgets/controls', '1.2.0', 'HTMLView')\n",
      "('@jupyter-widgets/controls', '1.2.0', 'ImageModel', '@jupyter-widgets/controls', '1.2.0', 'ImageView')\n",
      "('@jupyter-widgets/controls', '1.2.0', 'IntProgressModel', '@jupyter-widgets/controls', '1.2.0', 'ProgressView')\n",
      "('@jupyter-widgets/controls', '1.2.0', 'IntRangeSliderModel', '@jupyter-widgets/controls', '1.2.0', 'IntRangeSliderView')\n",
      "('@jupyter-widgets/controls', '1.2.0', 'IntSliderModel', '@jupyter-widgets/controls', '1.2.0', 'IntSliderView')\n",
      "('@jupyter-widgets/controls', '1.2.0', 'IntTextModel', '@jupyter-widgets/controls', '1.2.0', 'IntTextView')\n",
      "('@jupyter-widgets/controls', '1.2.0', 'LabelModel', '@jupyter-widgets/controls', '1.2.0', 'LabelView')\n",
      "('@jupyter-widgets/controls', '1.2.0', 'LinkModel', '@jupyter-widgets/controls', '1.2.0', None)\n",
      "('@jupyter-widgets/controls', '1.2.0', 'PasswordModel', '@jupyter-widgets/controls', '1.2.0', 'PasswordView')\n",
      "('@jupyter-widgets/controls', '1.2.0', 'PlayModel', '@jupyter-widgets/controls', '1.2.0', 'PlayView')\n",
      "('@jupyter-widgets/controls', '1.2.0', 'ProgressStyleModel', '@jupyter-widgets/base', '1.0.0', 'StyleView')\n",
      "('@jupyter-widgets/controls', '1.2.0', 'RadioButtonsModel', '@jupyter-widgets/controls', '1.2.0', 'RadioButtonsView')\n",
      "('@jupyter-widgets/controls', '1.2.0', 'SelectModel', '@jupyter-widgets/controls', '1.2.0', 'SelectView')\n",
      "('@jupyter-widgets/controls', '1.2.0', 'SelectMultipleModel', '@jupyter-widgets/controls', '1.2.0', 'SelectMultipleView')\n",
      "('@jupyter-widgets/controls', '1.2.0', 'SelectionRangeSliderModel', '@jupyter-widgets/controls', '1.2.0', 'SelectionRangeSliderView')\n",
      "('@jupyter-widgets/controls', '1.2.0', 'SelectionSliderModel', '@jupyter-widgets/controls', '1.2.0', 'SelectionSliderView')\n",
      "('@jupyter-widgets/controls', '1.2.0', 'SliderStyleModel', '@jupyter-widgets/base', '1.0.0', 'StyleView')\n",
      "('@jupyter-widgets/controls', '1.2.0', 'TabModel', '@jupyter-widgets/controls', '1.2.0', 'TabView')\n",
      "('@jupyter-widgets/controls', '1.2.0', 'TextModel', '@jupyter-widgets/controls', '1.2.0', 'TextView')\n",
      "('@jupyter-widgets/controls', '1.2.0', 'TextareaModel', '@jupyter-widgets/controls', '1.2.0', 'TextareaView')\n",
      "('@jupyter-widgets/controls', '1.2.0', 'ToggleButtonModel', '@jupyter-widgets/controls', '1.2.0', 'ToggleButtonView')\n",
      "('@jupyter-widgets/controls', '1.2.0', 'ToggleButtonsModel', '@jupyter-widgets/controls', '1.2.0', 'ToggleButtonsView')\n",
      "('@jupyter-widgets/controls', '1.2.0', 'ToggleButtonsStyleModel', '@jupyter-widgets/base', '1.0.0', 'StyleView')\n",
      "('@jupyter-widgets/controls', '1.2.0', 'VBoxModel', '@jupyter-widgets/controls', '1.2.0', 'VBoxView')\n",
      "('@jupyter-widgets/controls', '1.2.0', 'ValidModel', '@jupyter-widgets/controls', '1.2.0', 'ValidView')\n",
      "('@jupyter-widgets/output', '1.0.0', 'OutputModel', '@jupyter-widgets/output', '1.0.0', 'OutputView')\n"
     ]
    }
   ],
   "source": [
    "import ipywidgets as widgets\n",
    "\n",
    "for item in widgets.Widget.widget_types.items():\n",
    "    print(item[0]) #list of all available widgets!"
   ]
  },
  {
   "cell_type": "code",
   "execution_count": 37,
   "metadata": {},
   "outputs": [],
   "source": [
    "import ipywidgets as widgets\n",
    "from IPython.display import display"
   ]
  },
  {
   "cell_type": "code",
   "execution_count": 38,
   "metadata": {},
   "outputs": [
    {
     "data": {
      "application/vnd.jupyter.widget-view+json": {
       "model_id": "504287cac259431a8d94213768525d12",
       "version_major": 2,
       "version_minor": 0
      },
      "text/plain": [
       "IntSlider(value=0)"
      ]
     },
     "metadata": {},
     "output_type": "display_data"
    }
   ],
   "source": [
    "w = widgets.IntSlider()\n",
    "display(w)"
   ]
  },
  {
   "cell_type": "code",
   "execution_count": 39,
   "metadata": {},
   "outputs": [],
   "source": [
    "w.layout.margin = 'auto'\n",
    "w.layout.height = '75px'"
   ]
  },
  {
   "cell_type": "code",
   "execution_count": 42,
   "metadata": {},
   "outputs": [
    {
     "data": {
      "application/vnd.jupyter.widget-view+json": {
       "model_id": "946e05a62c484ea8ab7199ec35968e58",
       "version_major": 2,
       "version_minor": 0
      },
      "text/plain": [
       "IntSlider(value=15, description='New Slider')"
      ]
     },
     "metadata": {},
     "output_type": "display_data"
    }
   ],
   "source": [
    "x = widgets.IntSlider(value=15,description = 'New Slider')\n",
    "display(x)"
   ]
  },
  {
   "cell_type": "code",
   "execution_count": 43,
   "metadata": {},
   "outputs": [],
   "source": [
    "x.layout = w.layout #make the layout the same"
   ]
  },
  {
   "cell_type": "code",
   "execution_count": 44,
   "metadata": {},
   "outputs": [
    {
     "data": {
      "application/vnd.jupyter.widget-view+json": {
       "model_id": "416cb099bef1425380e888c6e92a3596",
       "version_major": 2,
       "version_minor": 0
      },
      "text/plain": [
       "Button(button_style='danger', description='Ordinary Button', style=ButtonStyle())"
      ]
     },
     "metadata": {},
     "output_type": "display_data"
    }
   ],
   "source": [
    "widgets.Button(description = 'Ordinary Button',button_style = 'danger')"
   ]
  },
  {
   "cell_type": "code",
   "execution_count": 45,
   "metadata": {},
   "outputs": [
    {
     "data": {
      "application/vnd.jupyter.widget-view+json": {
       "model_id": "0fffc4fc09f14a4e9661a27597374c9e",
       "version_major": 2,
       "version_minor": 0
      },
      "text/plain": [
       "Button(button_style='warning', description='Ordinary Button', style=ButtonStyle())"
      ]
     },
     "metadata": {},
     "output_type": "display_data"
    }
   ],
   "source": [
    "widgets.Button(description = 'Ordinary Button',button_style = 'warning')"
   ]
  },
  {
   "cell_type": "code",
   "execution_count": null,
   "metadata": {},
   "outputs": [],
   "source": []
  },
  {
   "cell_type": "code",
   "execution_count": null,
   "metadata": {},
   "outputs": [],
   "source": []
  },
  {
   "cell_type": "code",
   "execution_count": null,
   "metadata": {},
   "outputs": [],
   "source": []
  },
  {
   "cell_type": "code",
   "execution_count": 46,
   "metadata": {},
   "outputs": [
    {
     "data": {
      "application/vnd.jupyter.widget-view+json": {
       "model_id": "8f3d8377727842adb4aa79559c98a585",
       "version_major": 2,
       "version_minor": 0
      },
      "text/plain": [
       "Button(description='Custom Color ', style=ButtonStyle(button_color='lightgreen'))"
      ]
     },
     "metadata": {},
     "output_type": "display_data"
    }
   ],
   "source": [
    "b1 = widgets.Button(description = 'Custom Color ')\n",
    "b1.style.button_color = 'lightgreen'\n",
    "b1"
   ]
  },
  {
   "cell_type": "code",
   "execution_count": 47,
   "metadata": {},
   "outputs": [
    {
     "data": {
      "text/plain": [
       "['_model_module',\n",
       " '_model_module_version',\n",
       " '_model_name',\n",
       " '_view_count',\n",
       " '_view_module',\n",
       " '_view_module_version',\n",
       " '_view_name',\n",
       " 'button_color',\n",
       " 'font_weight']"
      ]
     },
     "execution_count": 47,
     "metadata": {},
     "output_type": "execute_result"
    }
   ],
   "source": [
    "b1.style.keys"
   ]
  },
  {
   "cell_type": "code",
   "execution_count": 50,
   "metadata": {},
   "outputs": [
    {
     "data": {
      "application/vnd.jupyter.widget-view+json": {
       "model_id": "06c86003c68948bb8c8aa16058e35b7d",
       "version_major": 2,
       "version_minor": 0
      },
      "text/plain": [
       "Button(description='new', style=ButtonStyle(button_color='lightgreen'))"
      ]
     },
     "metadata": {},
     "output_type": "display_data"
    }
   ],
   "source": [
    "b2 = widgets.Button(description = 'new')\n",
    "b2.style = b1.style\n",
    "b2"
   ]
  },
  {
   "cell_type": "code",
   "execution_count": 51,
   "metadata": {},
   "outputs": [
    {
     "data": {
      "application/vnd.jupyter.widget-view+json": {
       "model_id": "dabcbed68ed84887a00a0bbe5a570d42",
       "version_major": 2,
       "version_minor": 0
      },
      "text/plain": [
       "IntSlider(value=0, description='My Handle', style=SliderStyle(handle_color='blue'))"
      ]
     },
     "metadata": {},
     "output_type": "display_data"
    }
   ],
   "source": [
    "s1 = widgets.IntSlider(description = 'My Handle')\n",
    "s1.style.handle_color = 'blue' #any common color string will be accepted\n",
    "s1"
   ]
  },
  {
   "cell_type": "code",
   "execution_count": null,
   "metadata": {},
   "outputs": [],
   "source": []
  }
 ],
 "metadata": {
  "kernelspec": {
   "display_name": "Python 3",
   "language": "python",
   "name": "python3"
  },
  "language_info": {
   "codemirror_mode": {
    "name": "ipython",
    "version": 3
   },
   "file_extension": ".py",
   "mimetype": "text/x-python",
   "name": "python",
   "nbconvert_exporter": "python",
   "pygments_lexer": "ipython3",
   "version": "3.6.5"
  }
 },
 "nbformat": 4,
 "nbformat_minor": 2
}
